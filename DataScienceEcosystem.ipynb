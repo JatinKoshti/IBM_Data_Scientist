{
 "cells": [
  {
   "cell_type": "markdown",
   "id": "657d8418-7fed-4ac3-a801-c08f1c7dde86",
   "metadata": {},
   "source": [
    "# Data Science Tools and Ecosystem"
   ]
  },
  {
   "cell_type": "markdown",
   "id": "c1cf43f5-54d2-472a-a219-4f30f80ca62c",
   "metadata": {},
   "source": [
    "## In this notebook, Data Science Tools and Ecosystem are summarized."
   ]
  },
  {
   "cell_type": "markdown",
   "id": "1f354c38-bfaa-440a-a11b-4d4d9beb3124",
   "metadata": {},
   "source": [
    "## <b>Objectives<b>:\n",
    "### Python\n",
    "### R\n",
    "### Jullia\n",
    "### SQL\n"
   ]
  },
  {
   "cell_type": "markdown",
   "id": "bd950d5c-078e-42bd-b9c2-0e87e8ec62de",
   "metadata": {},
   "source": [
    "## Some of the popular languages that Data Scientists use are:\n",
    "### 1. Python\n",
    "### 2. SQL\n",
    "### 3. R"
   ]
  },
  {
   "cell_type": "markdown",
   "id": "c66c80bd-5ec4-4a13-bdec-65003edd3ef3",
   "metadata": {},
   "source": [
    "## Some of the commonly used libraries used by Data Scientists include:\n",
    "### 1. Pandas\n",
    "### 2. Numpy\n",
    "### 3. Scit_learn\n",
    "### 4. ggplot\n",
    "### 5. keras"
   ]
  },
  {
   "cell_type": "code",
   "execution_count": 4,
   "id": "b48cdec9-dd36-4fc2-bbc2-1cb6a2c802ef",
   "metadata": {},
   "outputs": [
    {
     "data": {
      "text/html": [
       "<div>\n",
       "<style scoped>\n",
       "    .dataframe tbody tr th:only-of-type {\n",
       "        vertical-align: middle;\n",
       "    }\n",
       "\n",
       "    .dataframe tbody tr th {\n",
       "        vertical-align: top;\n",
       "    }\n",
       "\n",
       "    .dataframe thead th {\n",
       "        text-align: right;\n",
       "    }\n",
       "</style>\n",
       "<table border=\"1\" class=\"dataframe\">\n",
       "  <thead>\n",
       "    <tr style=\"text-align: right;\">\n",
       "      <th></th>\n",
       "      <th>Data Science Tools</th>\n",
       "    </tr>\n",
       "  </thead>\n",
       "  <tbody>\n",
       "    <tr>\n",
       "      <th>0</th>\n",
       "      <td>Anaconda</td>\n",
       "    </tr>\n",
       "    <tr>\n",
       "      <th>1</th>\n",
       "      <td>Jupyter Notebook</td>\n",
       "    </tr>\n",
       "    <tr>\n",
       "      <th>2</th>\n",
       "      <td>R Studion</td>\n",
       "    </tr>\n",
       "  </tbody>\n",
       "</table>\n",
       "</div>"
      ],
      "text/plain": [
       "  Data Science Tools\n",
       "0           Anaconda\n",
       "1   Jupyter Notebook\n",
       "2          R Studion"
      ]
     },
     "execution_count": 4,
     "metadata": {},
     "output_type": "execute_result"
    }
   ],
   "source": [
    "import pandas as pd\n",
    "df = pd.DataFrame({\"Data Science Tools\" : ['Anaconda','Jupyter Notebook','R Studion']})\n",
    "df"
   ]
  },
  {
   "cell_type": "markdown",
   "id": "4cf36a51-a7c0-4bea-b3bf-76b9da7dc4fe",
   "metadata": {},
   "source": [
    "### Below are a few examples of evaluating arithmetic expressions in Python"
   ]
  },
  {
   "cell_type": "code",
   "execution_count": 5,
   "id": "4ba5d285-e3d6-4214-8b18-8f7d1b79f89b",
   "metadata": {},
   "outputs": [
    {
     "data": {
      "text/plain": [
       "17"
      ]
     },
     "execution_count": 5,
     "metadata": {},
     "output_type": "execute_result"
    }
   ],
   "source": [
    "(3*4)+5 #This a simple arithmetic expression to mutiply then add integers"
   ]
  },
  {
   "cell_type": "code",
   "execution_count": 6,
   "id": "e8635c71-9051-4d12-a928-23a2328b22c7",
   "metadata": {},
   "outputs": [
    {
     "data": {
      "text/plain": [
       "3.3333333333333335"
      ]
     },
     "execution_count": 6,
     "metadata": {},
     "output_type": "execute_result"
    }
   ],
   "source": [
    "200/60 #This will convert 200 minutes to hours by diving by 60"
   ]
  },
  {
   "cell_type": "markdown",
   "id": "99f06446-2d82-4100-88d2-1bb9ec22641f",
   "metadata": {},
   "source": [
    "## Author"
   ]
  },
  {
   "cell_type": "raw",
   "id": "3eab0740-312a-4097-bbdd-7f70786683e4",
   "metadata": {},
   "source": [
    "Jatin Koshti"
   ]
  },
  {
   "cell_type": "code",
   "execution_count": null,
   "id": "6b7a8072-b022-484b-bba1-2c1b2101c162",
   "metadata": {},
   "outputs": [],
   "source": []
  },
  {
   "cell_type": "code",
   "execution_count": null,
   "id": "3aad06a5-0a71-4e7c-908f-1f376711515e",
   "metadata": {},
   "outputs": [],
   "source": []
  },
  {
   "cell_type": "code",
   "execution_count": null,
   "id": "f1f90913-14f6-48b5-9522-c1f8a32cc7d7",
   "metadata": {},
   "outputs": [],
   "source": []
  },
  {
   "cell_type": "code",
   "execution_count": null,
   "id": "ad335783-ef9f-4892-91ae-8b86b7979f0f",
   "metadata": {},
   "outputs": [],
   "source": []
  },
  {
   "cell_type": "code",
   "execution_count": null,
   "id": "a0bda1f0-38d2-4869-a1b2-14a7dd15b38a",
   "metadata": {},
   "outputs": [],
   "source": []
  },
  {
   "cell_type": "code",
   "execution_count": null,
   "id": "8017b076-597e-487d-9d47-39d9cedbde7e",
   "metadata": {},
   "outputs": [],
   "source": []
  },
  {
   "cell_type": "code",
   "execution_count": null,
   "id": "b8d49253-e436-4f73-9658-cef546ef5c35",
   "metadata": {},
   "outputs": [],
   "source": []
  },
  {
   "cell_type": "code",
   "execution_count": null,
   "id": "9b6584bf-5b85-4a79-979f-a70757540878",
   "metadata": {},
   "outputs": [],
   "source": []
  },
  {
   "cell_type": "code",
   "execution_count": null,
   "id": "160cacce-74d0-406e-b992-44af76e813cd",
   "metadata": {},
   "outputs": [],
   "source": []
  },
  {
   "cell_type": "code",
   "execution_count": null,
   "id": "c6837c77-61bf-4aaf-ad4b-bcae9d561cf6",
   "metadata": {},
   "outputs": [],
   "source": []
  },
  {
   "cell_type": "code",
   "execution_count": null,
   "id": "acacadbc-6e49-4eb5-be0f-688b4df578b6",
   "metadata": {},
   "outputs": [],
   "source": []
  },
  {
   "cell_type": "code",
   "execution_count": null,
   "id": "ae19ed09-0b59-47db-b683-5d81350b70f7",
   "metadata": {},
   "outputs": [],
   "source": []
  },
  {
   "cell_type": "code",
   "execution_count": null,
   "id": "8726ec3b-5158-4af5-ac10-28c4087a0a13",
   "metadata": {},
   "outputs": [],
   "source": []
  },
  {
   "cell_type": "code",
   "execution_count": null,
   "id": "fa015b75-b294-4bc1-bcfb-466f80bdcc72",
   "metadata": {},
   "outputs": [],
   "source": []
  },
  {
   "cell_type": "code",
   "execution_count": null,
   "id": "13984de2-d750-4ef0-abd7-d088a1dc6f05",
   "metadata": {},
   "outputs": [],
   "source": []
  },
  {
   "cell_type": "code",
   "execution_count": null,
   "id": "e692f65f-535a-4e00-a655-e9d5b2889386",
   "metadata": {},
   "outputs": [],
   "source": []
  }
 ],
 "metadata": {
  "kernelspec": {
   "display_name": "Python 3 (ipykernel)",
   "language": "python",
   "name": "python3"
  },
  "language_info": {
   "codemirror_mode": {
    "name": "ipython",
    "version": 3
   },
   "file_extension": ".py",
   "mimetype": "text/x-python",
   "name": "python",
   "nbconvert_exporter": "python",
   "pygments_lexer": "ipython3",
   "version": "3.10.11"
  }
 },
 "nbformat": 4,
 "nbformat_minor": 5
}
